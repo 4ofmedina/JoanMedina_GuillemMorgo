{
 "cells": [
  {
   "cell_type": "code",
   "execution_count": 2,
   "metadata": {},
   "outputs": [],
   "source": [
    "from dependencies import *\n",
    "import os"
   ]
  },
  {
   "cell_type": "code",
   "execution_count": 3,
   "metadata": {},
   "outputs": [],
   "source": [
    "data = load_tweets()"
   ]
  },
  {
   "cell_type": "markdown",
   "metadata": {},
   "source": [
    "## TF_IDF"
   ]
  },
  {
   "cell_type": "code",
   "execution_count": null,
   "metadata": {},
   "outputs": [],
   "source": [
    "index, tf, df, idf, titleIndex = create_index(data['join'])"
   ]
  },
  {
   "cell_type": "code",
   "execution_count": null,
   "metadata": {},
   "outputs": [],
   "source": [
    "queries = ['trump has covid', 'impact of coronavirus', 'how to face off covid',\n",
    "           'lockdowns does not work', 'how good is the vaccine?', 'vaccine of pfizer', \n",
    "          'vaccine 2021', 'no more masks', 'I think I have covid', 'what are covid symptoms']"
   ]
  },
  {
   "cell_type": "code",
   "execution_count": null,
   "metadata": {},
   "outputs": [],
   "source": [
    "path = '../other-outputs/RQ1b.csv'\n",
    "if not os.path.exists('../other-outputs/'):\n",
    "    os.mkdir('../other-outputs/')\n",
    "    \n",
    "result = google(queries[0], index, tf, df, idf, titleIndex, data)\n",
    "result.to_csv(path, index=False, mode='w')\n",
    "for query in queries[1:]:\n",
    "    result = google(query, index, tf, df, idf, titleIndex, data)\n",
    "    result.to_csv(path, index=False, mode='a')"
   ]
  },
  {
   "cell_type": "markdown",
   "metadata": {},
   "source": [
    "## Word2Vec"
   ]
  },
  {
   "cell_type": "code",
   "execution_count": 13,
   "metadata": {},
   "outputs": [],
   "source": [
    "from gensim.models import Word2Vec"
   ]
  },
  {
   "cell_type": "code",
   "execution_count": 69,
   "metadata": {},
   "outputs": [],
   "source": [
    "tweets_cleaned = [clean_text(text) for text in data[\"text\"]]\n",
    "data['tweets_cleaned'] = tweets_cleaned\n",
    "\n",
    "model = Word2Vec(window=5, min_count=1, workers=4,size=10)\n",
    "model.build_vocab(tweets_cleaned)\n",
    "model.train(tweets_cleaned,total_examples=len(tweets_cleaned),epochs=10)"
   ]
  },
  {
   "cell_type": "code",
   "execution_count": 181,
   "metadata": {},
   "outputs": [],
   "source": [
    "def tweet2vec(text,word2vec):\n",
    "    if(text):\n",
    "        vectors = word2vec[text[0]]\n",
    "        for word in text[1:]:\n",
    "            word_vector = word2vec[word]\n",
    "            vectors = np.concatenate([vectors,word_vector])\n",
    "        return vectors.reshape(len(text),-1).mean(axis=0)\n",
    "    else:\n",
    "        return\n",
    "\n",
    "\n",
    "def query2vec(query, word2vec):\n",
    "\n",
    "    vectors = -1\n",
    "    for i,word in enumerate(query):\n",
    "        #print(word)\n",
    "        \n",
    "        word_vector = word2vec[word]\n",
    "        #print(word_vector.shape)\n",
    "        if i  > 0:\n",
    "            vectors = np.concatenate([vectors,word_vector])\n",
    "        if i == 0:\n",
    "            vectors = word_vector  \n",
    "    return vectors.reshape(len(query),-1).mean(axis=0)"
   ]
  },
  {
   "cell_type": "code",
   "execution_count": 173,
   "metadata": {},
   "outputs": [
    {
     "name": "stderr",
     "output_type": "stream",
     "text": [
      "<ipython-input-172-ccd58c9a4bf2>:3: DeprecationWarning: Call to deprecated `__getitem__` (Method will be removed in 4.0.0, use self.wv.__getitem__() instead).\n",
      "  vectors = word2vec[text[0]]\n",
      "<ipython-input-172-ccd58c9a4bf2>:5: DeprecationWarning: Call to deprecated `__getitem__` (Method will be removed in 4.0.0, use self.wv.__getitem__() instead).\n",
      "  word_vector = word2vec[word]\n"
     ]
    }
   ],
   "source": [
    "representation = [tweet2vec(items,model) for items in tweets_cleaned]\n",
    "embeded_tweets = np.array(representation)\n",
    "data['embeded_tweets'] = list(embeded_tweets)\n",
    "\n",
    "aux = []\n",
    "for i,d in zip(data.index,data['embeded_tweets']):\n",
    "    if d is None:\n",
    "        aux.append(i)\n",
    "data.drop(aux, inplace=True)\n",
    "data.reset_index(drop = True, inplace=True)"
   ]
  },
  {
   "cell_type": "code",
   "execution_count": 324,
   "metadata": {},
   "outputs": [],
   "source": [
    "def scoring(model, tweets_cleaned, embeded_tweets, query_input):\n",
    "    print('Query: {}'.format(query_input))\n",
    "    top = 20\n",
    "    query = clean_text(query_input)\n",
    "    query = query2vec(query, model)\n",
    "    \n",
    "    docScores=[ [np.dot(curDocVec, query), i] for i, curDocVec in zip(data.index,data['embeded_tweets'] ) if curDocVec != list([])]\n",
    "    docScores.sort(reverse=True)\n",
    "    \n",
    "    results = pd.DataFrame(columns=['for_query','tweet', 'username', 'date', 'hashtags', 'likes', 'retweets', 'url'])\n",
    "    count = 0\n",
    "\n",
    "    for scores in docScores[:top] :\n",
    "        d_id = scores[1]\n",
    "        results.loc[count,'for_query'] = query_input\n",
    "        results.loc[count,'tweet'] = data.loc[d_id, \"text\"]\n",
    "        results.loc[count,'username'] = data.loc[d_id, \"user\"]['screen_name']\n",
    "        results.loc[count,'date'] = data.loc[d_id, \"created_at\"]\n",
    "        results.loc[count,'hashtags'] = [data.loc[0,'entities']['hashtags'][i]['text'] for i in range(len(data.loc[0,'entities']['hashtags']))]\n",
    "        results.loc[count,'likes'] = data.loc[d_id, \"favorite_count\"]\n",
    "        results.loc[count,'retweets'] = data.loc[d_id, \"retweet_count\"]\n",
    "        results.loc[count,'url'] = \"https://twitter.com/twitter/statuses/\"+str(data.loc[d_id, \"id\"])\n",
    "        count +=1\n",
    "\n",
    "    return results"
   ]
  },
  {
   "cell_type": "code",
   "execution_count": 323,
   "metadata": {},
   "outputs": [
    {
     "name": "stdout",
     "output_type": "stream",
     "text": [
      "Query: trump has covid\n"
     ]
    },
    {
     "name": "stderr",
     "output_type": "stream",
     "text": [
      "<ipython-input-181-f722293de702>:18: DeprecationWarning: Call to deprecated `__getitem__` (Method will be removed in 4.0.0, use self.wv.__getitem__() instead).\n",
      "  word_vector = word2vec[word]\n",
      "<ipython-input-321-c97aa456a536>:17: DeprecationWarning: elementwise comparison failed; this will raise an error in the future.\n",
      "  docScores=[ [np.dot(curDocVec, query), i] for i, curDocVec in zip(data.index,data['embeded_tweets'] ) if curDocVec != list([])]\n"
     ]
    },
    {
     "name": "stdout",
     "output_type": "stream",
     "text": [
      "Query: impact of coronavirus\n",
      "Query: how to face off covid\n",
      "Query: lockdowns does not work\n",
      "Query: how good is the vaccine?\n",
      "Query: vaccine of pfizer\n",
      "Query: vaccine 2021\n",
      "Query: no more masks\n",
      "Query: I think I have covid\n",
      "Query: what are covid symptoms\n"
     ]
    }
   ],
   "source": [
    "path = '../other-outputs/RQ1c.csv'\n",
    "if not os.path.exists('../other-outputs/'):\n",
    "    os.mkdir('../other-outputs/')\n",
    "    \n",
    "result = scoring(model, data['tweets_cleaned'], data['embeded_tweets'], queries[0])\n",
    "result.to_csv(path, index=False, mode='w')\n",
    "for query in queries[1:]:\n",
    "    result = scoring(model, data['tweets_cleaned'], data['embeded_tweets'], query)\n",
    "    result.to_csv(path, index=False, mode='a')"
   ]
  },
  {
   "cell_type": "markdown",
   "metadata": {},
   "source": [
    "## TSNE"
   ]
  },
  {
   "cell_type": "code",
   "execution_count": 327,
   "metadata": {},
   "outputs": [],
   "source": [
    "from sklearn.manifold import TSNE"
   ]
  },
  {
   "cell_type": "code",
   "execution_count": null,
   "metadata": {},
   "outputs": [],
   "source": [
    "arr = []\n",
    "for i in emb_tweets:\n",
    "    aux = []\n",
    "    for j in i:\n",
    "        aux.append(j)\n",
    "    arr.append(aux)\n",
    "arr"
   ]
  },
  {
   "cell_type": "code",
   "execution_count": 352,
   "metadata": {},
   "outputs": [],
   "source": [
    "tsne_model_en_2d = TSNE(perplexity=15, n_components=2, init='pca', n_iter=250, random_state=32)\n",
    "embeddings_en_2d = np.array(tsne_model_en_2d.fit_transform(arr))"
   ]
  },
  {
   "cell_type": "code",
   "execution_count": 355,
   "metadata": {},
   "outputs": [
    {
     "data": {
      "text/plain": [
       "<matplotlib.collections.PathCollection at 0x7fc94e5c7bb0>"
      ]
     },
     "execution_count": 355,
     "metadata": {},
     "output_type": "execute_result"
    },
    {
     "data": {
      "image/png": "[encoded data removed]",
      "text/plain": [
       "<Figure size 1440x720 with 1 Axes>"
      ]
     },
     "metadata": {},
     "output_type": "display_data"
    }
   ],
   "source": [
    "x = embeddings_en_2d[:, 0]\n",
    "y = embeddings_en_2d[:, 1]\n",
    "plt.figure(figsize=(20,10))\n",
    "plt.scatter(x, y, c='red')"
   ]
  },
  {
   "cell_type": "markdown",
   "metadata": {},
   "source": [
    "## CLUSTERING"
   ]
  },
  {
   "cell_type": "code",
   "execution_count": 360,
   "metadata": {},
   "outputs": [
    {
     "name": "stdout",
     "output_type": "stream",
     "text": [
      "[('vaccin', 5471), ('pandem', 3082), ('covid19', 2672), ('get', 1852), ('peopl', 1333), ('covid', 1237), ('like', 885), ('us', 840), ('know', 838), ('go', 838)]\n",
      "\n",
      "\n"
     ]
    }
   ],
   "source": [
    "from sklearn.cluster import KMeans\n",
    "import nltk\n",
    "\n",
    "NUM_CLUSTERS = 1\n",
    "kmeans = KMeans(n_clusters=NUM_CLUSTERS, random_state=0,max_iter=1000).fit(embeddings_en_2d)\n",
    "data[\"cluster\"] = kmeans.labels_\n",
    "\n",
    "grouped = data.groupby(by = data['cluster'])\n",
    "for cluster in grouped.groups.keys():\n",
    "    df = grouped.get_group(cluster)\n",
    "    tweets_cleaned = [clean_text(text) for text in df[\"text\"]]\n",
    "    text = [text for text in tweets_cleaned]\n",
    "    text = [text for text in text for text in text]\n",
    "    freq = nltk.FreqDist(text)\n",
    "    print(freq.most_common(10))\n",
    "    print(\"\\n\")"
   ]
  }
 ],
 "metadata": {
  "kernelspec": {
   "display_name": "Python 3",
   "language": "python",
   "name": "python3"
  },
  "language_info": {
   "codemirror_mode": {
    "name": "ipython",
    "version": 3
   },
   "file_extension": ".py",
   "mimetype": "text/x-python",
   "name": "python",
   "nbconvert_exporter": "python",
   "pygments_lexer": "ipython3",
   "version": "3.8.5"
  }
 },
 "nbformat": 4,
 "nbformat_minor": 4
}
